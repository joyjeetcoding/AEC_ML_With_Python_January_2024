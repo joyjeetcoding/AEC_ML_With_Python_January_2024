{
 "cells": [
  {
   "cell_type": "markdown",
   "id": "b41b9bfb-5092-4dfc-b7f0-a022c193e6ba",
   "metadata": {},
   "source": [
    "## **PANDAS: INTRODUCTION**\n",
    "> It is often said that 80% of data analysis is spent on the data cleaning and preparing data. To get a handle on the problem, this section focuses on a small, but important aspect of data manipulation and cleaning with Pandas.\n",
    "### **Data Structures**\n",
    "**There are two data structures are there in Pandas -**<br>\n",
    "* **Series -** It is one-dimensional labeled array capable of holding any data type (integer, strings, floating point numbers, Python objects etc.) of data. The axis is collectively referred to as index.\n",
    "\n",
    "* **Data Frame -** It is a two-dimensional labeled data structure with columns of potentially different types. You can think of it like a spreadsheet or SQL Table or a Series of objects.\n",
    "\n",
    "### **Series Data Structure:**\n",
    "**pandas.core.series.Series(data, index, dtype, copy)**<br>\n",
    "* **data -** data takes various forms like ndarray, list, constants, dictionary etc.<br>\n",
    "* **index -** it is unique and hashable for easy identification.<br>\n",
    "* **dtype -** it is for data type.<br>\n",
    "* **copy -** copy data, and its default value is False. It only affects for Series on one dimensional ndarray inputs."
   ]
  },
  {
   "cell_type": "code",
   "execution_count": 1,
   "id": "d53c677f-a553-4489-b835-8d2ec1c594e5",
   "metadata": {},
   "outputs": [],
   "source": [
    "# importing required modules\n",
    "import pandas as pd\n",
    "import numpy as np"
   ]
  },
  {
   "cell_type": "code",
   "execution_count": 3,
   "id": "be89e20c-f0d6-402f-8ff0-570c1af15b06",
   "metadata": {},
   "outputs": [
    {
     "name": "stdout",
     "output_type": "stream",
     "text": [
      "Series([], dtype: float64) <class 'pandas.core.series.Series'>\n"
     ]
    }
   ],
   "source": [
    "# creating empty Series\n",
    "import warnings\n",
    "warnings.filterwarnings('ignore')\n",
    "s = pd.Series()\n",
    "print (s, type(s))"
   ]
  },
  {
   "cell_type": "code",
   "execution_count": 4,
   "id": "01644c48-1bbd-4fd9-b0ff-9d16f87d01a5",
   "metadata": {},
   "outputs": [
    {
     "name": "stdout",
     "output_type": "stream",
     "text": [
      "0        apple\n",
      "1       banana\n",
      "2       cherry\n",
      "3    pineapple\n",
      "dtype: object <class 'pandas.core.series.Series'> apple pineapple\n"
     ]
    }
   ],
   "source": [
    "# create a Series from a ndarray\n",
    "arr_data = np.array(['apple', 'banana', 'cherry', 'pineapple'])\n",
    "s = pd.Series(data = arr_data)\n",
    "print (s, type(s), s[0], s[3])"
   ]
  },
  {
   "cell_type": "code",
   "execution_count": 12,
   "id": "2db38854-af53-4162-9f4b-1a6bcf4168a6",
   "metadata": {},
   "outputs": [
    {
     "name": "stdout",
     "output_type": "stream",
     "text": [
      "[999 300 888 600 500] <class 'numpy.ndarray'> \n",
      " 0    999\n",
      "1    300\n",
      "2    888\n",
      "3    600\n",
      "4    500\n",
      "dtype: int32 <class 'pandas.core.series.Series'>\n",
      "[100 300 888 600 500] <class 'numpy.ndarray'> \n",
      " 0    999\n",
      "1    300\n",
      "2    200\n",
      "3    600\n",
      "4    500\n",
      "dtype: int32 <class 'pandas.core.series.Series'>\n"
     ]
    }
   ],
   "source": [
    "arr_data = np.array([100, 300, 200, 600, 500])\n",
    "s = pd.Series(arr_data, copy = False)\n",
    "s[0] = 999; arr_data[2] = 888\n",
    "print (arr_data, type(arr_data), \"\\n\", s, type(s))\n",
    "\n",
    "arr_data = np.array([100, 300, 200, 600, 500])\n",
    "s = pd.Series(arr_data, copy = True)\n",
    "s[0] = 999; arr_data[2] = 888\n",
    "print (arr_data, type(arr_data), \"\\n\", s, type(s))"
   ]
  },
  {
   "cell_type": "code",
   "execution_count": 15,
   "id": "7af1c76d-4947-4ccd-afae-4fc2a7d1e55d",
   "metadata": {},
   "outputs": [
    {
     "name": "stdout",
     "output_type": "stream",
     "text": [
      "['apple' 'banana' 'cherry' 'pineapple'] <class 'numpy.ndarray'>\n",
      "100        apple\n",
      "101       banana\n",
      "102       cherry\n",
      "103    pineapple\n",
      "dtype: object\n",
      "apple <class 'str'> pineapple <class 'str'>\n"
     ]
    }
   ],
   "source": [
    "arr_data = np.array(['apple', 'banana', 'cherry', 'pineapple'])\n",
    "print (arr_data, type(arr_data))\n",
    "\n",
    "s = pd.Series(data = arr_data, index = [100, 101, 102, 103])\n",
    "print (s)\n",
    "print (s[100], type(s[100]), s[103], type(s[103]))"
   ]
  },
  {
   "cell_type": "code",
   "execution_count": 19,
   "id": "2e0347d7-3a54-4ce0-808a-47bb513178f1",
   "metadata": {},
   "outputs": [
    {
     "name": "stdout",
     "output_type": "stream",
     "text": [
      "100        apple\n",
      "101       banana\n",
      "100       cherry\n",
      "103    pineapple\n",
      "dtype: object\n",
      "100     apple\n",
      "100    cherry\n",
      "dtype: object <class 'pandas.core.series.Series'> pineapple <class 'str'>\n"
     ]
    }
   ],
   "source": [
    "s = pd.Series(data = arr_data, index = [100, 101, 100, 103])\n",
    "print (s)\n",
    "print (s[100], type(s[100]), s[103], type(s[103]))"
   ]
  },
  {
   "cell_type": "code",
   "execution_count": 17,
   "id": "69f88560-6ba3-49dd-b1d5-5f11ab614cac",
   "metadata": {},
   "outputs": [
    {
     "name": "stdout",
     "output_type": "stream",
     "text": [
      "fruit-1        apple\n",
      "fruit-2       banana\n",
      "fruit-3       cherry\n",
      "fruit-4    pineapple\n",
      "dtype: object\n",
      "apple apple cherry cherry\n"
     ]
    }
   ],
   "source": [
    "arr_data = np.array(['apple', 'banana', 'cherry', 'pineapple'])\n",
    "s = pd.Series(data = arr_data, index = ['fruit-1', 'fruit-2', 'fruit-3', 'fruit-4'])\n",
    "print (s)\n",
    "print (s['fruit-1'], s[0], s['fruit-3'], s[2])"
   ]
  },
  {
   "cell_type": "code",
   "execution_count": 21,
   "id": "f69a7b79-fc65-4494-8d7a-d0b044dfa83e",
   "metadata": {},
   "outputs": [
    {
     "name": "stdout",
     "output_type": "stream",
     "text": [
      "apple      100\n",
      "banana     202\n",
      "coconut    450\n",
      "mango      435\n",
      "dtype: int64\n",
      "banana     202\n",
      "mango      435\n",
      "apple      100\n",
      "coconut    450\n",
      "dtype: int64\n"
     ]
    }
   ],
   "source": [
    "# create a Series from a dictionary\n",
    "dict_data = {'apple':100, 'banana':202, 'coconut':450, 'mango':435}\n",
    "s = pd.Series(dict_data)\n",
    "print (s)\n",
    "s = pd.Series(dict_data, index = ['banana', 'mango', 'apple', 'coconut'])\n",
    "print (s)"
   ]
  },
  {
   "cell_type": "code",
   "execution_count": 24,
   "id": "398bcbc4-e503-4400-a8d7-31318f9a2475",
   "metadata": {},
   "outputs": [
    {
     "name": "stdout",
     "output_type": "stream",
     "text": [
      "banana     202\n",
      "mango      435\n",
      "apple      100\n",
      "coconut    450\n",
      "dtype: int64\n",
      "banana     202.0\n",
      "lime         NaN\n",
      "coconut    450.0\n",
      "mango      435.0\n",
      "guava        NaN\n",
      "apple      100.0\n",
      "mango      435.0\n",
      "apple      100.0\n",
      "coconut    450.0\n",
      "dtype: float64\n",
      "202.0 nan nan 100.0\n"
     ]
    }
   ],
   "source": [
    "dict_data = {'apple':100, 'banana':202, 'coconut':450, 'mango':435}\n",
    "s = pd.Series(dict_data, index = ['banana', 'mango', 'apple', 'coconut'])\n",
    "print (s)\n",
    "s = pd.Series(data = dict_data, index = \n",
    "                    ['banana', 'lime', 'coconut', 'mango', 'guava', 'apple', 'mango', 'apple', 'coconut'])\n",
    "print (s)\n",
    "print (s['banana'], s['lime'], s[4], s[5])"
   ]
  },
  {
   "cell_type": "code",
   "execution_count": 25,
   "id": "336e4da7-60ae-4439-896c-7c2a7c2d882d",
   "metadata": {},
   "outputs": [
    {
     "name": "stdout",
     "output_type": "stream",
     "text": [
      "0    5\n",
      "1    5\n",
      "2    5\n",
      "3    5\n",
      "4    5\n",
      "dtype: int64\n",
      "0    5\n",
      "1    5\n",
      "2    5\n",
      "0    5\n",
      "1    5\n",
      "2    5\n",
      "dtype: int64\n"
     ]
    }
   ],
   "source": [
    "# create a Series from a scalar\n",
    "s = pd.Series(5, index = [0, 1, 2, 3, 4])\n",
    "print(s)\n",
    "s = pd.Series(5, index = [0, 1, 2, 0, 1, 2])\n",
    "print(s)"
   ]
  },
  {
   "cell_type": "code",
   "execution_count": 33,
   "id": "96ef39da-da4e-4f7d-8900-ab3dbfd8c116",
   "metadata": {},
   "outputs": [
    {
     "name": "stdout",
     "output_type": "stream",
     "text": [
      "red       101\n",
      "blue      303\n",
      "brown     202\n",
      "black     404\n",
      "silver    505\n",
      "dtype: int64\n"
     ]
    }
   ],
   "source": [
    "# Create a Series from a list\n",
    "s = pd.Series(data = [101, 303, 202, 404, 505], index = ['red', 'blue', 'brown', 'black', 'silver'])\n",
    "print (s)"
   ]
  },
  {
   "cell_type": "code",
   "execution_count": 33,
   "id": "f9d8af54",
   "metadata": {},
   "outputs": [
    {
     "name": "stdout",
     "output_type": "stream",
     "text": [
      "red       101\n",
      "blue      303\n",
      "brown     202\n",
      "black     404\n",
      "silver    505\n",
      "dtype: int64\n"
     ]
    }
   ],
   "source": [
    "# Create a Series from a list\n",
    "s = pd.Series(data = [101, 303, 202, 404, 505], index = ['red', 'blue', 'brown', 'black', 'silver'])\n",
    "print (s)"
   ]
  },
  {
   "cell_type": "markdown",
   "id": "c0e06606-c391-4098-ad1a-71612f6cd7b0",
   "metadata": {},
   "source": [
    "#### Data Frame Data Structure:"
   ]
  },
  {
   "cell_type": "markdown",
   "id": "6e7e8727-b44f-4f70-b813-8c069c38008e",
   "metadata": {},
   "source": [
    "#### Create DataFrame"
   ]
  },
  {
   "cell_type": "code",
   "execution_count": null,
   "id": "6cc4139a-da4d-4530-a558-9b52d91d0021",
   "metadata": {},
   "outputs": [],
   "source": [
    "data_dict = {'emp_name':['Amal', 'Kamal', 'Bimal', 'Shyamal'], 'emp_age':[34, 35, 45, 43]}\n",
    "emp_id = [100, 101, 102, 103]\n",
    "df = pd.DataFrame(data = data_dict, index = emp_id); print (df)\n",
    "df = df.reset_index(); print (df)"
   ]
  },
  {
   "cell_type": "code",
   "execution_count": null,
   "id": "01d4568d-a727-491b-857d-16956efcfb16",
   "metadata": {},
   "outputs": [],
   "source": [
    "user_data = [['alice', 19, 'F', 'student'], ['john', 26, 'M', 'student']]\n",
    "user_columns = ['name', 'age', 'gender', 'job']\n",
    "user1 = pd.DataFrame(data = user_data, columns = user_columns); print (user1)\n",
    "\n",
    "user_data = dict(name = ['eric', 'paul'], age = [22, 58], gender = ['M', 'F'], job = ['student', 'manager'])\n",
    "user2 = pd.DataFrame(data = user_data); print (user2)\n",
    "\n",
    "user_data = {'name': ['peter', 'julie'], 'age': [33, 44], 'gender': ['M', 'F'], 'job': ['engineer', 'scientist']}\n",
    "user3 = pd.DataFrame(data = user_data); print (user3)"
   ]
  },
  {
   "cell_type": "markdown",
   "id": "342ea2f7-6ffa-48be-895c-4ec221bb8dfd",
   "metadata": {},
   "source": [
    "#### Concatenate DataFrame"
   ]
  },
  {
   "cell_type": "code",
   "execution_count": null,
   "id": "3d844f93-d551-4130-a3c5-510c47b92e92",
   "metadata": {},
   "outputs": [],
   "source": [
    "users = user1.append(user2); print (users)\n",
    "users = user1.append(user2, ignore_index = True); print (users)\n",
    "users = users.append(user3, ignore_index=True); print (users)\n",
    "users = user1.append(user2).append(user3, ignore_index = True); print (users)\n",
    "\n",
    "users = pd.concat([user1, user2, user3]); print (users)\n",
    "users = pd.concat([user1, user2, user3], ignore_index = True); print (users)"
   ]
  }
 ],
 "metadata": {
  "kernelspec": {
   "display_name": "Python 3 (ipykernel)",
   "language": "python",
   "name": "python3"
  },
  "language_info": {
   "codemirror_mode": {
    "name": "ipython",
    "version": 3
   },
   "file_extension": ".py",
   "mimetype": "text/x-python",
   "name": "python",
   "nbconvert_exporter": "python",
   "pygments_lexer": "ipython3",
   "version": "3.10.9"
  }
 },
 "nbformat": 4,
 "nbformat_minor": 5
}
