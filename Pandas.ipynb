{
 "cells": [
  {
   "cell_type": "markdown",
   "id": "b41b9bfb-5092-4dfc-b7f0-a022c193e6ba",
   "metadata": {},
   "source": [
    "## **PANDAS: INTRODUCTION**\n",
    "> It is often said that 80% of data analysis is spent on the data cleaning and preparing data. To get a handle on the problem, this section focuses on a small, but important aspect of data manipulation and cleaning with Pandas.\n",
    "### **Data Structures**\n",
    "**There are two data structures are there in Pandas -**<br>\n",
    "* **Series -** It is one-dimensional labeled array capable of holding any data type (integer, strings, floating point numbers, Python objects etc.) of data. The axis is collectively referred to as index.\n",
    "\n",
    "* **Data Frame -** It is a two-dimensional labeled data structure with columns of potentially different types. You can think of it like a spreadsheet or SQL Table or a Series of objects.\n",
    "\n",
    "### **Series Data Structure:**\n",
    "**pandas.core.series.Series(data, index, dtype, copy)**<br>\n",
    "* **data -** data takes various forms like ndarray, list, constants, dictionary etc.<br>\n",
    "* **index -** it is unique and hashable for easy identification.<br>\n",
    "* **dtype -** it is for data type.<br>\n",
    "* **copy -** copy data, and its default value is False. It only affects for Series on one dimensional ndarray inputs."
   ]
  },
  {
   "cell_type": "code",
   "execution_count": 1,
   "id": "d53c677f-a553-4489-b835-8d2ec1c594e5",
   "metadata": {},
   "outputs": [],
   "source": [
    "# importing required modules\n",
    "import pandas as pd\n",
    "import numpy as np"
   ]
  },
  {
   "cell_type": "code",
   "execution_count": 7,
   "id": "be89e20c-f0d6-402f-8ff0-570c1af15b06",
   "metadata": {},
   "outputs": [
    {
     "name": "stdout",
     "output_type": "stream",
     "text": [
      "Series([], dtype: float64) <class 'pandas.core.series.Series'>\n"
     ]
    }
   ],
   "source": [
    "# creating empty Series\n",
    "import warnings\n",
    "warnings.filterwarnings('ignore')\n",
    "s = pd.Series()\n",
    "print (s, type(s))"
   ]
  },
  {
   "cell_type": "code",
   "execution_count": 4,
   "id": "01644c48-1bbd-4fd9-b0ff-9d16f87d01a5",
   "metadata": {},
   "outputs": [
    {
     "name": "stdout",
     "output_type": "stream",
     "text": [
      "0        apple\n",
      "1       banana\n",
      "2       cherry\n",
      "3    pineapple\n",
      "dtype: object <class 'pandas.core.series.Series'> apple pineapple\n"
     ]
    }
   ],
   "source": [
    "# create a Series from a ndarray\n",
    "arr_data = np.array(['apple', 'banana', 'cherry', 'pineapple'])\n",
    "s = pd.Series(data = arr_data)\n",
    "print (s, type(s), s[0], s[3])"
   ]
  },
  {
   "cell_type": "code",
   "execution_count": 12,
   "id": "2db38854-af53-4162-9f4b-1a6bcf4168a6",
   "metadata": {},
   "outputs": [
    {
     "name": "stdout",
     "output_type": "stream",
     "text": [
      "[999 300 888 600 500] <class 'numpy.ndarray'> \n",
      " 0    999\n",
      "1    300\n",
      "2    888\n",
      "3    600\n",
      "4    500\n",
      "dtype: int32 <class 'pandas.core.series.Series'>\n",
      "[100 300 888 600 500] <class 'numpy.ndarray'> \n",
      " 0    999\n",
      "1    300\n",
      "2    200\n",
      "3    600\n",
      "4    500\n",
      "dtype: int32 <class 'pandas.core.series.Series'>\n"
     ]
    }
   ],
   "source": [
    "arr_data = np.array([100, 300, 200, 600, 500])\n",
    "s = pd.Series(arr_data, copy = False)\n",
    "s[0] = 999; arr_data[2] = 888\n",
    "print (arr_data, type(arr_data), \"\\n\", s, type(s))\n",
    "\n",
    "arr_data = np.array([100, 300, 200, 600, 500])\n",
    "s = pd.Series(arr_data, copy = True)\n",
    "s[0] = 999; arr_data[2] = 888\n",
    "print (arr_data, type(arr_data), \"\\n\", s, type(s))"
   ]
  },
  {
   "cell_type": "code",
   "execution_count": 15,
   "id": "7af1c76d-4947-4ccd-afae-4fc2a7d1e55d",
   "metadata": {},
   "outputs": [
    {
     "name": "stdout",
     "output_type": "stream",
     "text": [
      "['apple' 'banana' 'cherry' 'pineapple'] <class 'numpy.ndarray'>\n",
      "100        apple\n",
      "101       banana\n",
      "102       cherry\n",
      "103    pineapple\n",
      "dtype: object\n",
      "apple <class 'str'> pineapple <class 'str'>\n"
     ]
    }
   ],
   "source": [
    "arr_data = np.array(['apple', 'banana', 'cherry', 'pineapple'])\n",
    "print (arr_data, type(arr_data))\n",
    "\n",
    "s = pd.Series(data = arr_data, index = [100, 101, 102, 103])\n",
    "print (s)\n",
    "print (s[100], type(s[100]), s[103], type(s[103]))"
   ]
  },
  {
   "cell_type": "code",
   "execution_count": 19,
   "id": "2e0347d7-3a54-4ce0-808a-47bb513178f1",
   "metadata": {},
   "outputs": [
    {
     "name": "stdout",
     "output_type": "stream",
     "text": [
      "100        apple\n",
      "101       banana\n",
      "100       cherry\n",
      "103    pineapple\n",
      "dtype: object\n",
      "100     apple\n",
      "100    cherry\n",
      "dtype: object <class 'pandas.core.series.Series'> pineapple <class 'str'>\n"
     ]
    }
   ],
   "source": [
    "s = pd.Series(data = arr_data, index = [100, 101, 100, 103])\n",
    "print (s)\n",
    "print (s[100], type(s[100]), s[103], type(s[103]))"
   ]
  },
  {
   "cell_type": "code",
   "execution_count": 17,
   "id": "69f88560-6ba3-49dd-b1d5-5f11ab614cac",
   "metadata": {},
   "outputs": [
    {
     "name": "stdout",
     "output_type": "stream",
     "text": [
      "fruit-1        apple\n",
      "fruit-2       banana\n",
      "fruit-3       cherry\n",
      "fruit-4    pineapple\n",
      "dtype: object\n",
      "apple apple cherry cherry\n"
     ]
    }
   ],
   "source": [
    "arr_data = np.array(['apple', 'banana', 'cherry', 'pineapple'])\n",
    "s = pd.Series(data = arr_data, index = ['fruit-1', 'fruit-2', 'fruit-3', 'fruit-4'])\n",
    "print (s)\n",
    "print (s['fruit-1'], s[0], s['fruit-3'], s[2])"
   ]
  },
  {
   "cell_type": "code",
   "execution_count": 21,
   "id": "f69a7b79-fc65-4494-8d7a-d0b044dfa83e",
   "metadata": {},
   "outputs": [
    {
     "name": "stdout",
     "output_type": "stream",
     "text": [
      "apple      100\n",
      "banana     202\n",
      "coconut    450\n",
      "mango      435\n",
      "dtype: int64\n",
      "banana     202\n",
      "mango      435\n",
      "apple      100\n",
      "coconut    450\n",
      "dtype: int64\n"
     ]
    }
   ],
   "source": [
    "# create a Series from a dictionary\n",
    "dict_data = {'apple':100, 'banana':202, 'coconut':450, 'mango':435}\n",
    "s = pd.Series(dict_data)\n",
    "print (s)\n",
    "s = pd.Series(dict_data, index = ['banana', 'mango', 'apple', 'coconut'])\n",
    "print (s)"
   ]
  },
  {
   "cell_type": "code",
   "execution_count": 24,
   "id": "398bcbc4-e503-4400-a8d7-31318f9a2475",
   "metadata": {},
   "outputs": [
    {
     "name": "stdout",
     "output_type": "stream",
     "text": [
      "banana     202\n",
      "mango      435\n",
      "apple      100\n",
      "coconut    450\n",
      "dtype: int64\n",
      "banana     202.0\n",
      "lime         NaN\n",
      "coconut    450.0\n",
      "mango      435.0\n",
      "guava        NaN\n",
      "apple      100.0\n",
      "mango      435.0\n",
      "apple      100.0\n",
      "coconut    450.0\n",
      "dtype: float64\n",
      "202.0 nan nan 100.0\n"
     ]
    }
   ],
   "source": [
    "dict_data = {'apple':100, 'banana':202, 'coconut':450, 'mango':435}\n",
    "s = pd.Series(dict_data, index = ['banana', 'mango', 'apple', 'coconut'])\n",
    "print (s)\n",
    "s = pd.Series(data = dict_data, index = \n",
    "                    ['banana', 'lime', 'coconut', 'mango', 'guava', 'apple', 'mango', 'apple', 'coconut'])\n",
    "print (s)\n",
    "print (s['banana'], s['lime'], s[4], s[5])"
   ]
  },
  {
   "cell_type": "code",
   "execution_count": 25,
   "id": "336e4da7-60ae-4439-896c-7c2a7c2d882d",
   "metadata": {},
   "outputs": [
    {
     "name": "stdout",
     "output_type": "stream",
     "text": [
      "0    5\n",
      "1    5\n",
      "2    5\n",
      "3    5\n",
      "4    5\n",
      "dtype: int64\n",
      "0    5\n",
      "1    5\n",
      "2    5\n",
      "0    5\n",
      "1    5\n",
      "2    5\n",
      "dtype: int64\n"
     ]
    }
   ],
   "source": [
    "# create a Series from a scalar\n",
    "s = pd.Series(5, index = [0, 1, 2, 3, 4])\n",
    "print(s)\n",
    "s = pd.Series(5, index = [0, 1, 2, 0, 1, 2])\n",
    "print(s)"
   ]
  },
  {
   "cell_type": "code",
   "execution_count": 33,
   "id": "96ef39da-da4e-4f7d-8900-ab3dbfd8c116",
   "metadata": {},
   "outputs": [
    {
     "name": "stdout",
     "output_type": "stream",
     "text": [
      "red       101\n",
      "blue      303\n",
      "brown     202\n",
      "black     404\n",
      "silver    505\n",
      "dtype: int64\n"
     ]
    }
   ],
   "source": [
    "# Create a Series from a list\n",
    "s = pd.Series(data = [101, 303, 202, 404, 505], index = ['red', 'blue', 'brown', 'black', 'silver'])\n",
    "print (s)"
   ]
  },
  {
   "cell_type": "code",
   "execution_count": 33,
   "id": "f9d8af54",
   "metadata": {},
   "outputs": [
    {
     "name": "stdout",
     "output_type": "stream",
     "text": [
      "red       101\n",
      "blue      303\n",
      "brown     202\n",
      "black     404\n",
      "silver    505\n",
      "dtype: int64\n"
     ]
    }
   ],
   "source": [
    "# Create a Series from a list\n",
    "s = pd.Series(data = [101, 303, 202, 404, 505], index = ['red', 'blue', 'brown', 'black', 'silver'])\n",
    "print (s)"
   ]
  },
  {
   "cell_type": "markdown",
   "id": "c0e06606-c391-4098-ad1a-71612f6cd7b0",
   "metadata": {},
   "source": [
    "#### Data Frame Data Structure:"
   ]
  },
  {
   "cell_type": "markdown",
   "id": "6e7e8727-b44f-4f70-b813-8c069c38008e",
   "metadata": {},
   "source": [
    "#### Create DataFrame"
   ]
  },
  {
   "cell_type": "code",
   "execution_count": 7,
   "id": "6cc4139a-da4d-4530-a558-9b52d91d0021",
   "metadata": {},
   "outputs": [
    {
     "data": {
      "text/html": [
       "<div>\n",
       "<style scoped>\n",
       "    .dataframe tbody tr th:only-of-type {\n",
       "        vertical-align: middle;\n",
       "    }\n",
       "\n",
       "    .dataframe tbody tr th {\n",
       "        vertical-align: top;\n",
       "    }\n",
       "\n",
       "    .dataframe thead th {\n",
       "        text-align: right;\n",
       "    }\n",
       "</style>\n",
       "<table border=\"1\" class=\"dataframe\">\n",
       "  <thead>\n",
       "    <tr style=\"text-align: right;\">\n",
       "      <th></th>\n",
       "      <th>emp_name</th>\n",
       "      <th>emp_age</th>\n",
       "    </tr>\n",
       "  </thead>\n",
       "  <tbody>\n",
       "    <tr>\n",
       "      <th>0</th>\n",
       "      <td>Amal</td>\n",
       "      <td>34</td>\n",
       "    </tr>\n",
       "    <tr>\n",
       "      <th>1</th>\n",
       "      <td>Kamal</td>\n",
       "      <td>35</td>\n",
       "    </tr>\n",
       "    <tr>\n",
       "      <th>2</th>\n",
       "      <td>Bimal</td>\n",
       "      <td>45</td>\n",
       "    </tr>\n",
       "    <tr>\n",
       "      <th>3</th>\n",
       "      <td>Shyamal</td>\n",
       "      <td>43</td>\n",
       "    </tr>\n",
       "  </tbody>\n",
       "</table>\n",
       "</div>"
      ],
      "text/plain": [
       "  emp_name  emp_age\n",
       "0     Amal       34\n",
       "1    Kamal       35\n",
       "2    Bimal       45\n",
       "3  Shyamal       43"
      ]
     },
     "execution_count": 7,
     "metadata": {},
     "output_type": "execute_result"
    }
   ],
   "source": [
    "data_dict = {'emp_name':['Amal', 'Kamal', 'Bimal', 'Shyamal'], 'emp_age':[34, 35, 45, 43]}\n",
    "df = pd.DataFrame(data_dict)\n",
    "df"
   ]
  },
  {
   "cell_type": "code",
   "execution_count": 8,
   "id": "6227630f-4988-4926-9762-d530db850f2a",
   "metadata": {},
   "outputs": [
    {
     "data": {
      "text/html": [
       "<div>\n",
       "<style scoped>\n",
       "    .dataframe tbody tr th:only-of-type {\n",
       "        vertical-align: middle;\n",
       "    }\n",
       "\n",
       "    .dataframe tbody tr th {\n",
       "        vertical-align: top;\n",
       "    }\n",
       "\n",
       "    .dataframe thead th {\n",
       "        text-align: right;\n",
       "    }\n",
       "</style>\n",
       "<table border=\"1\" class=\"dataframe\">\n",
       "  <thead>\n",
       "    <tr style=\"text-align: right;\">\n",
       "      <th></th>\n",
       "      <th>emp_name</th>\n",
       "      <th>emp_age</th>\n",
       "    </tr>\n",
       "  </thead>\n",
       "  <tbody>\n",
       "    <tr>\n",
       "      <th>0</th>\n",
       "      <td>Amal</td>\n",
       "      <td>34</td>\n",
       "    </tr>\n",
       "    <tr>\n",
       "      <th>1</th>\n",
       "      <td>Kamal</td>\n",
       "      <td>35</td>\n",
       "    </tr>\n",
       "    <tr>\n",
       "      <th>2</th>\n",
       "      <td>Bimal</td>\n",
       "      <td>45</td>\n",
       "    </tr>\n",
       "    <tr>\n",
       "      <th>3</th>\n",
       "      <td>Shyamal</td>\n",
       "      <td>43</td>\n",
       "    </tr>\n",
       "  </tbody>\n",
       "</table>\n",
       "</div>"
      ],
      "text/plain": [
       "  emp_name  emp_age\n",
       "0     Amal       34\n",
       "1    Kamal       35\n",
       "2    Bimal       45\n",
       "3  Shyamal       43"
      ]
     },
     "execution_count": 8,
     "metadata": {},
     "output_type": "execute_result"
    }
   ],
   "source": [
    "data_dict = {'emp_name':['Amal', 'Kamal', 'Bimal', 'Shyamal'], 'emp_age':[34, 35, 45, 43]}\n",
    "df = pd.DataFrame(data = data_dict)\n",
    "df"
   ]
  },
  {
   "cell_type": "code",
   "execution_count": 17,
   "id": "78627d0b-a255-48f0-831d-89b38f468f36",
   "metadata": {},
   "outputs": [
    {
     "data": {
      "text/html": [
       "<div>\n",
       "<style scoped>\n",
       "    .dataframe tbody tr th:only-of-type {\n",
       "        vertical-align: middle;\n",
       "    }\n",
       "\n",
       "    .dataframe tbody tr th {\n",
       "        vertical-align: top;\n",
       "    }\n",
       "\n",
       "    .dataframe thead th {\n",
       "        text-align: right;\n",
       "    }\n",
       "</style>\n",
       "<table border=\"1\" class=\"dataframe\">\n",
       "  <thead>\n",
       "    <tr style=\"text-align: right;\">\n",
       "      <th></th>\n",
       "      <th>emp_name</th>\n",
       "      <th>emp_age</th>\n",
       "    </tr>\n",
       "  </thead>\n",
       "  <tbody>\n",
       "    <tr>\n",
       "      <th>100</th>\n",
       "      <td>Amal</td>\n",
       "      <td>34</td>\n",
       "    </tr>\n",
       "    <tr>\n",
       "      <th>101</th>\n",
       "      <td>Kamal</td>\n",
       "      <td>35</td>\n",
       "    </tr>\n",
       "    <tr>\n",
       "      <th>102</th>\n",
       "      <td>Bimal</td>\n",
       "      <td>45</td>\n",
       "    </tr>\n",
       "    <tr>\n",
       "      <th>103</th>\n",
       "      <td>Shyamal</td>\n",
       "      <td>43</td>\n",
       "    </tr>\n",
       "  </tbody>\n",
       "</table>\n",
       "</div>"
      ],
      "text/plain": [
       "    emp_name  emp_age\n",
       "100     Amal       34\n",
       "101    Kamal       35\n",
       "102    Bimal       45\n",
       "103  Shyamal       43"
      ]
     },
     "execution_count": 17,
     "metadata": {},
     "output_type": "execute_result"
    }
   ],
   "source": [
    "data_dict = {'emp_name':['Amal', 'Kamal', 'Bimal', 'Shyamal'], 'emp_age':[34, 35, 45, 43]}\n",
    "emp_id = [100, 101, 102, 103]\n",
    "df = pd.DataFrame(data = data_dict, index = emp_id)\n",
    "df"
   ]
  },
  {
   "cell_type": "code",
   "execution_count": 18,
   "id": "b592b0fc-1a84-4917-9b7c-d50332b7b720",
   "metadata": {},
   "outputs": [
    {
     "name": "stdout",
     "output_type": "stream",
     "text": [
      "    emp_name  emp_age\n",
      "100     Amal       34\n",
      "101    Kamal       35\n",
      "102    Bimal       45\n",
      "103  Shyamal       43\n"
     ]
    },
    {
     "data": {
      "text/html": [
       "<div>\n",
       "<style scoped>\n",
       "    .dataframe tbody tr th:only-of-type {\n",
       "        vertical-align: middle;\n",
       "    }\n",
       "\n",
       "    .dataframe tbody tr th {\n",
       "        vertical-align: top;\n",
       "    }\n",
       "\n",
       "    .dataframe thead th {\n",
       "        text-align: right;\n",
       "    }\n",
       "</style>\n",
       "<table border=\"1\" class=\"dataframe\">\n",
       "  <thead>\n",
       "    <tr style=\"text-align: right;\">\n",
       "      <th></th>\n",
       "      <th>index</th>\n",
       "      <th>emp_name</th>\n",
       "      <th>emp_age</th>\n",
       "    </tr>\n",
       "  </thead>\n",
       "  <tbody>\n",
       "    <tr>\n",
       "      <th>0</th>\n",
       "      <td>100</td>\n",
       "      <td>Amal</td>\n",
       "      <td>34</td>\n",
       "    </tr>\n",
       "    <tr>\n",
       "      <th>1</th>\n",
       "      <td>101</td>\n",
       "      <td>Kamal</td>\n",
       "      <td>35</td>\n",
       "    </tr>\n",
       "    <tr>\n",
       "      <th>2</th>\n",
       "      <td>102</td>\n",
       "      <td>Bimal</td>\n",
       "      <td>45</td>\n",
       "    </tr>\n",
       "    <tr>\n",
       "      <th>3</th>\n",
       "      <td>103</td>\n",
       "      <td>Shyamal</td>\n",
       "      <td>43</td>\n",
       "    </tr>\n",
       "  </tbody>\n",
       "</table>\n",
       "</div>"
      ],
      "text/plain": [
       "   index emp_name  emp_age\n",
       "0    100     Amal       34\n",
       "1    101    Kamal       35\n",
       "2    102    Bimal       45\n",
       "3    103  Shyamal       43"
      ]
     },
     "execution_count": 18,
     "metadata": {},
     "output_type": "execute_result"
    }
   ],
   "source": [
    "data_dict = {'emp_name':['Amal', 'Kamal', 'Bimal', 'Shyamal'], 'emp_age':[34, 35, 45, 43]}\n",
    "emp_id = [100, 101, 102, 103]\n",
    "df = pd.DataFrame(data = data_dict, index = emp_id)\n",
    "print (df)\n",
    "df = df.reset_index()\n",
    "df"
   ]
  },
  {
   "cell_type": "code",
   "execution_count": 19,
   "id": "b7db3ce5-0ad9-4b48-9257-c5014cfa6485",
   "metadata": {},
   "outputs": [
    {
     "data": {
      "text/html": [
       "<div>\n",
       "<style scoped>\n",
       "    .dataframe tbody tr th:only-of-type {\n",
       "        vertical-align: middle;\n",
       "    }\n",
       "\n",
       "    .dataframe tbody tr th {\n",
       "        vertical-align: top;\n",
       "    }\n",
       "\n",
       "    .dataframe thead th {\n",
       "        text-align: right;\n",
       "    }\n",
       "</style>\n",
       "<table border=\"1\" class=\"dataframe\">\n",
       "  <thead>\n",
       "    <tr style=\"text-align: right;\">\n",
       "      <th></th>\n",
       "      <th>0</th>\n",
       "      <th>1</th>\n",
       "      <th>2</th>\n",
       "      <th>3</th>\n",
       "    </tr>\n",
       "  </thead>\n",
       "  <tbody>\n",
       "    <tr>\n",
       "      <th>0</th>\n",
       "      <td>alice</td>\n",
       "      <td>19</td>\n",
       "      <td>F</td>\n",
       "      <td>student</td>\n",
       "    </tr>\n",
       "    <tr>\n",
       "      <th>1</th>\n",
       "      <td>john</td>\n",
       "      <td>26</td>\n",
       "      <td>M</td>\n",
       "      <td>student</td>\n",
       "    </tr>\n",
       "  </tbody>\n",
       "</table>\n",
       "</div>"
      ],
      "text/plain": [
       "       0   1  2        3\n",
       "0  alice  19  F  student\n",
       "1   john  26  M  student"
      ]
     },
     "execution_count": 19,
     "metadata": {},
     "output_type": "execute_result"
    }
   ],
   "source": [
    "user_data = [['alice', 19, 'F', 'student'], ['john', 26, 'M', 'student']]  # list of lists\n",
    "user1 = pd.DataFrame(user_data)\n",
    "user1"
   ]
  },
  {
   "cell_type": "code",
   "execution_count": 18,
   "id": "f8287f9b-24c8-48a7-9818-3b5e6fecead0",
   "metadata": {},
   "outputs": [
    {
     "data": {
      "text/html": [
       "<div>\n",
       "<style scoped>\n",
       "    .dataframe tbody tr th:only-of-type {\n",
       "        vertical-align: middle;\n",
       "    }\n",
       "\n",
       "    .dataframe tbody tr th {\n",
       "        vertical-align: top;\n",
       "    }\n",
       "\n",
       "    .dataframe thead th {\n",
       "        text-align: right;\n",
       "    }\n",
       "</style>\n",
       "<table border=\"1\" class=\"dataframe\">\n",
       "  <thead>\n",
       "    <tr style=\"text-align: right;\">\n",
       "      <th></th>\n",
       "      <th>name</th>\n",
       "      <th>age</th>\n",
       "      <th>gender</th>\n",
       "      <th>job</th>\n",
       "    </tr>\n",
       "  </thead>\n",
       "  <tbody>\n",
       "    <tr>\n",
       "      <th>0</th>\n",
       "      <td>alice</td>\n",
       "      <td>19</td>\n",
       "      <td>F</td>\n",
       "      <td>student</td>\n",
       "    </tr>\n",
       "    <tr>\n",
       "      <th>1</th>\n",
       "      <td>john</td>\n",
       "      <td>26</td>\n",
       "      <td>M</td>\n",
       "      <td>student</td>\n",
       "    </tr>\n",
       "  </tbody>\n",
       "</table>\n",
       "</div>"
      ],
      "text/plain": [
       "    name  age gender      job\n",
       "0  alice   19      F  student\n",
       "1   john   26      M  student"
      ]
     },
     "execution_count": 18,
     "metadata": {},
     "output_type": "execute_result"
    }
   ],
   "source": [
    "user_data = [['alice', 19, 'F', 'student'], ['john', 26, 'M', 'student']]  # list of lists\n",
    "user_columns = ['name', 'age', 'gender', 'job']\n",
    "user1 = pd.DataFrame(data = user_data, columns = user_columns)\n",
    "user1"
   ]
  },
  {
   "cell_type": "code",
   "execution_count": 19,
   "id": "23d4f265-50b8-41df-9936-da4cc9f36b0a",
   "metadata": {},
   "outputs": [
    {
     "name": "stdout",
     "output_type": "stream",
     "text": [
      "{'name': ['eric', 'paul'], 'age': [22, 58], 'gender': ['M', 'F'], 'job': ['student', 'manager']}\n"
     ]
    },
    {
     "data": {
      "text/html": [
       "<div>\n",
       "<style scoped>\n",
       "    .dataframe tbody tr th:only-of-type {\n",
       "        vertical-align: middle;\n",
       "    }\n",
       "\n",
       "    .dataframe tbody tr th {\n",
       "        vertical-align: top;\n",
       "    }\n",
       "\n",
       "    .dataframe thead th {\n",
       "        text-align: right;\n",
       "    }\n",
       "</style>\n",
       "<table border=\"1\" class=\"dataframe\">\n",
       "  <thead>\n",
       "    <tr style=\"text-align: right;\">\n",
       "      <th></th>\n",
       "      <th>name</th>\n",
       "      <th>age</th>\n",
       "      <th>gender</th>\n",
       "      <th>job</th>\n",
       "    </tr>\n",
       "  </thead>\n",
       "  <tbody>\n",
       "    <tr>\n",
       "      <th>0</th>\n",
       "      <td>eric</td>\n",
       "      <td>22</td>\n",
       "      <td>M</td>\n",
       "      <td>student</td>\n",
       "    </tr>\n",
       "    <tr>\n",
       "      <th>1</th>\n",
       "      <td>paul</td>\n",
       "      <td>58</td>\n",
       "      <td>F</td>\n",
       "      <td>manager</td>\n",
       "    </tr>\n",
       "  </tbody>\n",
       "</table>\n",
       "</div>"
      ],
      "text/plain": [
       "   name  age gender      job\n",
       "0  eric   22      M  student\n",
       "1  paul   58      F  manager"
      ]
     },
     "execution_count": 19,
     "metadata": {},
     "output_type": "execute_result"
    }
   ],
   "source": [
    "user_data = dict(name = ['eric', 'paul'], age = [22, 58], gender = ['M', 'F'], job = ['student', 'manager'])\n",
    "print (user_data)\n",
    "user2 = pd.DataFrame(data = user_data)\n",
    "user2"
   ]
  },
  {
   "cell_type": "code",
   "execution_count": 4,
   "id": "5a17d9be-4202-4a39-a715-9000b815101f",
   "metadata": {},
   "outputs": [
    {
     "data": {
      "text/html": [
       "<div>\n",
       "<style scoped>\n",
       "    .dataframe tbody tr th:only-of-type {\n",
       "        vertical-align: middle;\n",
       "    }\n",
       "\n",
       "    .dataframe tbody tr th {\n",
       "        vertical-align: top;\n",
       "    }\n",
       "\n",
       "    .dataframe thead th {\n",
       "        text-align: right;\n",
       "    }\n",
       "</style>\n",
       "<table border=\"1\" class=\"dataframe\">\n",
       "  <thead>\n",
       "    <tr style=\"text-align: right;\">\n",
       "      <th></th>\n",
       "      <th>name</th>\n",
       "      <th>age</th>\n",
       "      <th>gender</th>\n",
       "      <th>job</th>\n",
       "    </tr>\n",
       "  </thead>\n",
       "  <tbody>\n",
       "    <tr>\n",
       "      <th>0</th>\n",
       "      <td>peter</td>\n",
       "      <td>33</td>\n",
       "      <td>M</td>\n",
       "      <td>engineer</td>\n",
       "    </tr>\n",
       "    <tr>\n",
       "      <th>1</th>\n",
       "      <td>julie</td>\n",
       "      <td>44</td>\n",
       "      <td>F</td>\n",
       "      <td>scientist</td>\n",
       "    </tr>\n",
       "  </tbody>\n",
       "</table>\n",
       "</div>"
      ],
      "text/plain": [
       "    name  age gender        job\n",
       "0  peter   33      M   engineer\n",
       "1  julie   44      F  scientist"
      ]
     },
     "execution_count": 4,
     "metadata": {},
     "output_type": "execute_result"
    }
   ],
   "source": [
    "user_data = {'name': ['peter', 'julie'], 'age': [33, 44], 'gender': ['M', 'F'], 'job': ['engineer', 'scientist']}\n",
    "user3 = pd.DataFrame(data = user_data)\n",
    "user3"
   ]
  },
  {
   "cell_type": "markdown",
   "id": "342ea2f7-6ffa-48be-895c-4ec221bb8dfd",
   "metadata": {},
   "source": [
    "#### Concatenate DataFrame"
   ]
  },
  {
   "cell_type": "code",
   "execution_count": 20,
   "id": "e8ab3195-0c50-49cc-920c-401af9dc9b32",
   "metadata": {},
   "outputs": [
    {
     "name": "stdout",
     "output_type": "stream",
     "text": [
      "    name  age gender      job\n",
      "0  alice   19      F  student\n",
      "1   john   26      M  student\n",
      "\n",
      "   name  age gender      job\n",
      "0  eric   22      M  student\n",
      "1  paul   58      F  manager\n",
      "\n",
      "    name  age gender        job\n",
      "0  peter   33      M   engineer\n",
      "1  julie   44      F  scientist\n"
     ]
    }
   ],
   "source": [
    "print (user1)\n",
    "print ()\n",
    "print (user2)\n",
    "print ()\n",
    "print (user3)"
   ]
  },
  {
   "cell_type": "code",
   "execution_count": 8,
   "id": "3d844f93-d551-4130-a3c5-510c47b92e92",
   "metadata": {},
   "outputs": [
    {
     "data": {
      "text/html": [
       "<div>\n",
       "<style scoped>\n",
       "    .dataframe tbody tr th:only-of-type {\n",
       "        vertical-align: middle;\n",
       "    }\n",
       "\n",
       "    .dataframe tbody tr th {\n",
       "        vertical-align: top;\n",
       "    }\n",
       "\n",
       "    .dataframe thead th {\n",
       "        text-align: right;\n",
       "    }\n",
       "</style>\n",
       "<table border=\"1\" class=\"dataframe\">\n",
       "  <thead>\n",
       "    <tr style=\"text-align: right;\">\n",
       "      <th></th>\n",
       "      <th>name</th>\n",
       "      <th>age</th>\n",
       "      <th>gender</th>\n",
       "      <th>job</th>\n",
       "    </tr>\n",
       "  </thead>\n",
       "  <tbody>\n",
       "    <tr>\n",
       "      <th>0</th>\n",
       "      <td>alice</td>\n",
       "      <td>19</td>\n",
       "      <td>F</td>\n",
       "      <td>student</td>\n",
       "    </tr>\n",
       "    <tr>\n",
       "      <th>1</th>\n",
       "      <td>john</td>\n",
       "      <td>26</td>\n",
       "      <td>M</td>\n",
       "      <td>student</td>\n",
       "    </tr>\n",
       "    <tr>\n",
       "      <th>0</th>\n",
       "      <td>eric</td>\n",
       "      <td>22</td>\n",
       "      <td>M</td>\n",
       "      <td>student</td>\n",
       "    </tr>\n",
       "    <tr>\n",
       "      <th>1</th>\n",
       "      <td>paul</td>\n",
       "      <td>58</td>\n",
       "      <td>F</td>\n",
       "      <td>manager</td>\n",
       "    </tr>\n",
       "  </tbody>\n",
       "</table>\n",
       "</div>"
      ],
      "text/plain": [
       "    name  age gender      job\n",
       "0  alice   19      F  student\n",
       "1   john   26      M  student\n",
       "0   eric   22      M  student\n",
       "1   paul   58      F  manager"
      ]
     },
     "execution_count": 8,
     "metadata": {},
     "output_type": "execute_result"
    }
   ],
   "source": [
    "users = user1.append(user2)\n",
    "users"
   ]
  },
  {
   "cell_type": "code",
   "execution_count": 9,
   "id": "dd7ed830",
   "metadata": {},
   "outputs": [
    {
     "data": {
      "text/html": [
       "<div>\n",
       "<style scoped>\n",
       "    .dataframe tbody tr th:only-of-type {\n",
       "        vertical-align: middle;\n",
       "    }\n",
       "\n",
       "    .dataframe tbody tr th {\n",
       "        vertical-align: top;\n",
       "    }\n",
       "\n",
       "    .dataframe thead th {\n",
       "        text-align: right;\n",
       "    }\n",
       "</style>\n",
       "<table border=\"1\" class=\"dataframe\">\n",
       "  <thead>\n",
       "    <tr style=\"text-align: right;\">\n",
       "      <th></th>\n",
       "      <th>name</th>\n",
       "      <th>age</th>\n",
       "      <th>gender</th>\n",
       "      <th>job</th>\n",
       "    </tr>\n",
       "  </thead>\n",
       "  <tbody>\n",
       "    <tr>\n",
       "      <th>0</th>\n",
       "      <td>alice</td>\n",
       "      <td>19</td>\n",
       "      <td>F</td>\n",
       "      <td>student</td>\n",
       "    </tr>\n",
       "    <tr>\n",
       "      <th>1</th>\n",
       "      <td>john</td>\n",
       "      <td>26</td>\n",
       "      <td>M</td>\n",
       "      <td>student</td>\n",
       "    </tr>\n",
       "    <tr>\n",
       "      <th>2</th>\n",
       "      <td>eric</td>\n",
       "      <td>22</td>\n",
       "      <td>M</td>\n",
       "      <td>student</td>\n",
       "    </tr>\n",
       "    <tr>\n",
       "      <th>3</th>\n",
       "      <td>paul</td>\n",
       "      <td>58</td>\n",
       "      <td>F</td>\n",
       "      <td>manager</td>\n",
       "    </tr>\n",
       "  </tbody>\n",
       "</table>\n",
       "</div>"
      ],
      "text/plain": [
       "    name  age gender      job\n",
       "0  alice   19      F  student\n",
       "1   john   26      M  student\n",
       "2   eric   22      M  student\n",
       "3   paul   58      F  manager"
      ]
     },
     "execution_count": 9,
     "metadata": {},
     "output_type": "execute_result"
    }
   ],
   "source": [
    "users = user1.append(user2, ignore_index = True)\n",
    "users"
   ]
  },
  {
   "cell_type": "code",
   "execution_count": 10,
   "id": "19c78520",
   "metadata": {},
   "outputs": [
    {
     "data": {
      "text/html": [
       "<div>\n",
       "<style scoped>\n",
       "    .dataframe tbody tr th:only-of-type {\n",
       "        vertical-align: middle;\n",
       "    }\n",
       "\n",
       "    .dataframe tbody tr th {\n",
       "        vertical-align: top;\n",
       "    }\n",
       "\n",
       "    .dataframe thead th {\n",
       "        text-align: right;\n",
       "    }\n",
       "</style>\n",
       "<table border=\"1\" class=\"dataframe\">\n",
       "  <thead>\n",
       "    <tr style=\"text-align: right;\">\n",
       "      <th></th>\n",
       "      <th>name</th>\n",
       "      <th>age</th>\n",
       "      <th>gender</th>\n",
       "      <th>job</th>\n",
       "    </tr>\n",
       "  </thead>\n",
       "  <tbody>\n",
       "    <tr>\n",
       "      <th>0</th>\n",
       "      <td>alice</td>\n",
       "      <td>19</td>\n",
       "      <td>F</td>\n",
       "      <td>student</td>\n",
       "    </tr>\n",
       "    <tr>\n",
       "      <th>1</th>\n",
       "      <td>john</td>\n",
       "      <td>26</td>\n",
       "      <td>M</td>\n",
       "      <td>student</td>\n",
       "    </tr>\n",
       "    <tr>\n",
       "      <th>2</th>\n",
       "      <td>eric</td>\n",
       "      <td>22</td>\n",
       "      <td>M</td>\n",
       "      <td>student</td>\n",
       "    </tr>\n",
       "    <tr>\n",
       "      <th>3</th>\n",
       "      <td>paul</td>\n",
       "      <td>58</td>\n",
       "      <td>F</td>\n",
       "      <td>manager</td>\n",
       "    </tr>\n",
       "    <tr>\n",
       "      <th>4</th>\n",
       "      <td>peter</td>\n",
       "      <td>33</td>\n",
       "      <td>M</td>\n",
       "      <td>engineer</td>\n",
       "    </tr>\n",
       "    <tr>\n",
       "      <th>5</th>\n",
       "      <td>julie</td>\n",
       "      <td>44</td>\n",
       "      <td>F</td>\n",
       "      <td>scientist</td>\n",
       "    </tr>\n",
       "  </tbody>\n",
       "</table>\n",
       "</div>"
      ],
      "text/plain": [
       "    name  age gender        job\n",
       "0  alice   19      F    student\n",
       "1   john   26      M    student\n",
       "2   eric   22      M    student\n",
       "3   paul   58      F    manager\n",
       "4  peter   33      M   engineer\n",
       "5  julie   44      F  scientist"
      ]
     },
     "execution_count": 10,
     "metadata": {},
     "output_type": "execute_result"
    }
   ],
   "source": [
    "users = users.append(user3, ignore_index = True)\n",
    "users"
   ]
  },
  {
   "cell_type": "code",
   "execution_count": 11,
   "id": "10110740",
   "metadata": {},
   "outputs": [
    {
     "data": {
      "text/html": [
       "<div>\n",
       "<style scoped>\n",
       "    .dataframe tbody tr th:only-of-type {\n",
       "        vertical-align: middle;\n",
       "    }\n",
       "\n",
       "    .dataframe tbody tr th {\n",
       "        vertical-align: top;\n",
       "    }\n",
       "\n",
       "    .dataframe thead th {\n",
       "        text-align: right;\n",
       "    }\n",
       "</style>\n",
       "<table border=\"1\" class=\"dataframe\">\n",
       "  <thead>\n",
       "    <tr style=\"text-align: right;\">\n",
       "      <th></th>\n",
       "      <th>name</th>\n",
       "      <th>age</th>\n",
       "      <th>gender</th>\n",
       "      <th>job</th>\n",
       "    </tr>\n",
       "  </thead>\n",
       "  <tbody>\n",
       "    <tr>\n",
       "      <th>0</th>\n",
       "      <td>alice</td>\n",
       "      <td>19</td>\n",
       "      <td>F</td>\n",
       "      <td>student</td>\n",
       "    </tr>\n",
       "    <tr>\n",
       "      <th>1</th>\n",
       "      <td>john</td>\n",
       "      <td>26</td>\n",
       "      <td>M</td>\n",
       "      <td>student</td>\n",
       "    </tr>\n",
       "    <tr>\n",
       "      <th>2</th>\n",
       "      <td>eric</td>\n",
       "      <td>22</td>\n",
       "      <td>M</td>\n",
       "      <td>student</td>\n",
       "    </tr>\n",
       "    <tr>\n",
       "      <th>3</th>\n",
       "      <td>paul</td>\n",
       "      <td>58</td>\n",
       "      <td>F</td>\n",
       "      <td>manager</td>\n",
       "    </tr>\n",
       "    <tr>\n",
       "      <th>4</th>\n",
       "      <td>peter</td>\n",
       "      <td>33</td>\n",
       "      <td>M</td>\n",
       "      <td>engineer</td>\n",
       "    </tr>\n",
       "    <tr>\n",
       "      <th>5</th>\n",
       "      <td>julie</td>\n",
       "      <td>44</td>\n",
       "      <td>F</td>\n",
       "      <td>scientist</td>\n",
       "    </tr>\n",
       "  </tbody>\n",
       "</table>\n",
       "</div>"
      ],
      "text/plain": [
       "    name  age gender        job\n",
       "0  alice   19      F    student\n",
       "1   john   26      M    student\n",
       "2   eric   22      M    student\n",
       "3   paul   58      F    manager\n",
       "4  peter   33      M   engineer\n",
       "5  julie   44      F  scientist"
      ]
     },
     "execution_count": 11,
     "metadata": {},
     "output_type": "execute_result"
    }
   ],
   "source": [
    "users = user1.append(user2).append(user3, ignore_index = True)\n",
    "users"
   ]
  },
  {
   "cell_type": "code",
   "execution_count": 21,
   "id": "d472be56",
   "metadata": {},
   "outputs": [
    {
     "data": {
      "text/html": [
       "<div>\n",
       "<style scoped>\n",
       "    .dataframe tbody tr th:only-of-type {\n",
       "        vertical-align: middle;\n",
       "    }\n",
       "\n",
       "    .dataframe tbody tr th {\n",
       "        vertical-align: top;\n",
       "    }\n",
       "\n",
       "    .dataframe thead th {\n",
       "        text-align: right;\n",
       "    }\n",
       "</style>\n",
       "<table border=\"1\" class=\"dataframe\">\n",
       "  <thead>\n",
       "    <tr style=\"text-align: right;\">\n",
       "      <th></th>\n",
       "      <th>name</th>\n",
       "      <th>age</th>\n",
       "      <th>gender</th>\n",
       "      <th>job</th>\n",
       "    </tr>\n",
       "  </thead>\n",
       "  <tbody>\n",
       "    <tr>\n",
       "      <th>0</th>\n",
       "      <td>alice</td>\n",
       "      <td>19</td>\n",
       "      <td>F</td>\n",
       "      <td>student</td>\n",
       "    </tr>\n",
       "    <tr>\n",
       "      <th>1</th>\n",
       "      <td>john</td>\n",
       "      <td>26</td>\n",
       "      <td>M</td>\n",
       "      <td>student</td>\n",
       "    </tr>\n",
       "    <tr>\n",
       "      <th>0</th>\n",
       "      <td>eric</td>\n",
       "      <td>22</td>\n",
       "      <td>M</td>\n",
       "      <td>student</td>\n",
       "    </tr>\n",
       "    <tr>\n",
       "      <th>1</th>\n",
       "      <td>paul</td>\n",
       "      <td>58</td>\n",
       "      <td>F</td>\n",
       "      <td>manager</td>\n",
       "    </tr>\n",
       "    <tr>\n",
       "      <th>0</th>\n",
       "      <td>peter</td>\n",
       "      <td>33</td>\n",
       "      <td>M</td>\n",
       "      <td>engineer</td>\n",
       "    </tr>\n",
       "    <tr>\n",
       "      <th>1</th>\n",
       "      <td>julie</td>\n",
       "      <td>44</td>\n",
       "      <td>F</td>\n",
       "      <td>scientist</td>\n",
       "    </tr>\n",
       "  </tbody>\n",
       "</table>\n",
       "</div>"
      ],
      "text/plain": [
       "    name  age gender        job\n",
       "0  alice   19      F    student\n",
       "1   john   26      M    student\n",
       "0   eric   22      M    student\n",
       "1   paul   58      F    manager\n",
       "0  peter   33      M   engineer\n",
       "1  julie   44      F  scientist"
      ]
     },
     "execution_count": 21,
     "metadata": {},
     "output_type": "execute_result"
    }
   ],
   "source": [
    "users = pd.concat([user1, user2, user3])\n",
    "users"
   ]
  },
  {
   "cell_type": "code",
   "execution_count": 24,
   "id": "adfe2df5",
   "metadata": {},
   "outputs": [
    {
     "data": {
      "text/html": [
       "<div>\n",
       "<style scoped>\n",
       "    .dataframe tbody tr th:only-of-type {\n",
       "        vertical-align: middle;\n",
       "    }\n",
       "\n",
       "    .dataframe tbody tr th {\n",
       "        vertical-align: top;\n",
       "    }\n",
       "\n",
       "    .dataframe thead th {\n",
       "        text-align: right;\n",
       "    }\n",
       "</style>\n",
       "<table border=\"1\" class=\"dataframe\">\n",
       "  <thead>\n",
       "    <tr style=\"text-align: right;\">\n",
       "      <th></th>\n",
       "      <th>name</th>\n",
       "      <th>age</th>\n",
       "      <th>gender</th>\n",
       "      <th>job</th>\n",
       "    </tr>\n",
       "  </thead>\n",
       "  <tbody>\n",
       "    <tr>\n",
       "      <th>0</th>\n",
       "      <td>alice</td>\n",
       "      <td>19</td>\n",
       "      <td>F</td>\n",
       "      <td>student</td>\n",
       "    </tr>\n",
       "    <tr>\n",
       "      <th>1</th>\n",
       "      <td>john</td>\n",
       "      <td>26</td>\n",
       "      <td>M</td>\n",
       "      <td>student</td>\n",
       "    </tr>\n",
       "    <tr>\n",
       "      <th>2</th>\n",
       "      <td>eric</td>\n",
       "      <td>22</td>\n",
       "      <td>M</td>\n",
       "      <td>student</td>\n",
       "    </tr>\n",
       "    <tr>\n",
       "      <th>3</th>\n",
       "      <td>paul</td>\n",
       "      <td>58</td>\n",
       "      <td>F</td>\n",
       "      <td>manager</td>\n",
       "    </tr>\n",
       "    <tr>\n",
       "      <th>4</th>\n",
       "      <td>peter</td>\n",
       "      <td>33</td>\n",
       "      <td>M</td>\n",
       "      <td>engineer</td>\n",
       "    </tr>\n",
       "    <tr>\n",
       "      <th>5</th>\n",
       "      <td>julie</td>\n",
       "      <td>44</td>\n",
       "      <td>F</td>\n",
       "      <td>scientist</td>\n",
       "    </tr>\n",
       "  </tbody>\n",
       "</table>\n",
       "</div>"
      ],
      "text/plain": [
       "    name  age gender        job\n",
       "0  alice   19      F    student\n",
       "1   john   26      M    student\n",
       "2   eric   22      M    student\n",
       "3   paul   58      F    manager\n",
       "4  peter   33      M   engineer\n",
       "5  julie   44      F  scientist"
      ]
     },
     "execution_count": 24,
     "metadata": {},
     "output_type": "execute_result"
    }
   ],
   "source": [
    "users = pd.concat([user1, user2, user3], ignore_index = True)\n",
    "users"
   ]
  },
  {
   "cell_type": "code",
   "execution_count": null,
   "id": "a4323c72",
   "metadata": {},
   "outputs": [],
   "source": []
  }
 ],
 "metadata": {
  "kernelspec": {
   "display_name": "Python 3 (ipykernel)",
   "language": "python",
   "name": "python3"
  },
  "language_info": {
   "codemirror_mode": {
    "name": "ipython",
    "version": 3
   },
   "file_extension": ".py",
   "mimetype": "text/x-python",
   "name": "python",
   "nbconvert_exporter": "python",
   "pygments_lexer": "ipython3",
   "version": "3.10.9"
  }
 },
 "nbformat": 4,
 "nbformat_minor": 5
}
